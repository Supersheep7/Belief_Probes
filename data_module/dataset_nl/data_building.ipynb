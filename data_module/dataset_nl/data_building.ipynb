{
 "cells": [
  {
   "cell_type": "code",
   "execution_count": null,
   "metadata": {},
   "outputs": [],
   "source": [
    "# TODO Take dataset from Azaria / MarksTegmark\n",
    "\n",
    "# TODO Clone dataset and shuffle labels for control task\n",
    "\n",
    "# TODO Train-test split (remember to keep categories apart)\n",
    "\n",
    "# TODO Save everything in csv with relevant informations attached"
   ]
  }
 ],
 "metadata": {
  "language_info": {
   "name": "python"
  }
 },
 "nbformat": 4,
 "nbformat_minor": 2
}
